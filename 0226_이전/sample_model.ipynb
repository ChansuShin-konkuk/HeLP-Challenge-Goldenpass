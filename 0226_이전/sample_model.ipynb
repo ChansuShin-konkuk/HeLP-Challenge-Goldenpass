{
 "cells": [
  {
   "cell_type": "markdown",
   "metadata": {},
   "source": [
    "# 1-1. Data Load"
   ]
  },
  {
   "cell_type": "markdown",
   "metadata": {},
   "source": [
    " - 이미지 샘플에서는 mask(암을표시한)에 대한 min_offset, max_offset이 주어져있지 않음\n",
    " \n",
    " - mask의 dimension은 slide의 최고 레벨(max_size)의 dimensions의 1/16\n",
    " \n",
    " - 따라서 mask와 최고 레벨 슬라이드의 사이즈를 맞춰주어야함.\n",
    "  - mask image up size후 slide와 비교 (이거 정확하게 해줘야함. 이미지 slide에서 down sample 할때, 어떻게하는지 참고)\n",
    " - 아래의 예제는 level 4의 예제로만 실행"
   ]
  },
  {
   "cell_type": "code",
   "execution_count": 1,
   "metadata": {},
   "outputs": [],
   "source": [
    "import numpy as np\n",
    "import pandas as pd\n",
    "import matplotlib.pyplot as plt\n",
    "%matplotlib inline"
   ]
  },
  {
   "cell_type": "code",
   "execution_count": 4,
   "metadata": {},
   "outputs": [
    {
     "name": "stdout",
     "output_type": "stream",
     "text": [
      "original slide dimensions 93970x234042\n",
      "original slide png dimensions 5316x10007\n",
      "original truth dimensions 5316x10007\n"
     ]
    }
   ],
   "source": [
    "import os.path as osp\n",
    "import openslide\n",
    "from pathlib import Path\n",
    "\n",
    "BASE_TRUTH_DIR = Path('mask(level4)')\n",
    "slide_path = 'slide/16-S-042893_A1.mrxs'\n",
    "slide_png_path = 'image(level4)/Tumor_16-S-042893_A1(positive class).png'\n",
    "truth_path = str(BASE_TRUTH_DIR/'Mask_16-S-042893_A1(positive class).png')\n",
    "\n",
    "slide = openslide.open_slide(slide_path)\n",
    "slide_png = openslide.open_slide(slide_png_path)\n",
    "truth = openslide.open_slide(truth_path)\n",
    "\n",
    "print(\"original slide dimensions %dx%d\" % slide.dimensions)\n",
    "print(\"original slide png dimensions %dx%d\" % slide_png.dimensions)\n",
    "print(\"original truth dimensions %dx%d\" % truth.dimensions)"
   ]
  },
  {
   "cell_type": "markdown",
   "metadata": {},
   "source": [
    "# 1-2. Patch Generate"
   ]
  },
  {
   "cell_type": "code",
   "execution_count": 14,
   "metadata": {},
   "outputs": [],
   "source": [
    "def find_patches_from_slide(slide_path, base_truth_dir=BASE_TRUTH_DIR, filter_non_tissue=True):\n",
    "    \"\"\"Returns a dataframe of all patches in slide\n",
    "    input: slide_path: path to WSI file\n",
    "    output: samples: dataframe with the following columns:\n",
    "        slide_path: path of slide\n",
    "        is_tissue: sample contains tissue\n",
    "        is_tumor: truth status of sample\n",
    "        tile_loc: coordinates of samples in slide\n",
    "        \n",
    "    \n",
    "    option: base_truth_dir: directory of truth slides\n",
    "    option: filter_non_tissue: Remove samples no tissue detected\n",
    "    \"\"\"\n",
    "    base_truth_dir = Path(base_truth_dir)\n",
    "    slide_contains_tumor = osp.basename(slide_path).startswith('Tumor_') # true or false\n",
    "    \n",
    "    with openslide.open_slide(slide_path) as slide:\n",
    "        thumbnail = slide.get_thumbnail((slide.dimensions[0]/256 , slide.dimensions[1]/256 ))\n",
    "    \n",
    "    thumbnail_grey = np.array(thumbnail.convert('L')) # convert to grayscale\n",
    "    thresh = threshold_otsu(thumbnail_grey)\n",
    "    binary = thumbnail_grey > thresh\n",
    "    \n",
    "    patches = pd.DataFrame(pd.DataFrame(binary).stack())\n",
    "    patches['is_tissue'] = ~patches[0]\n",
    "    patches.drop(0, axis=1, inplace=True)\n",
    "    patches['slide_path'] = slide_path\n",
    "    \n",
    "    if slide_contains_tumor:\n",
    "        #truth_slide_path = base_truth_dir / osp.basename(slide_path).replace('.tif', '_Mask.tif')\n",
    "        truth_slide_path = str(BASE_TRUTH_DIR/'Mask_16-S-042893_A1(positive class).png')\n",
    "        with openslide.open_slide(str(truth_slide_path)) as truth:\n",
    "            thumbnail_truth = truth.get_thumbnail((truth.dimensions[0] , truth.dimensions[1] )) \n",
    "        \n",
    "        patches_y = pd.DataFrame(pd.DataFrame(np.array(thumbnail_truth.convert(\"L\"))).stack())\n",
    "        patches_y['is_tumor'] = patches_y[0] > 0\n",
    "        patches_y.drop(0, axis=1, inplace=True)\n",
    "\n",
    "        samples = pd.concat([patches, patches_y], axis=1)\n",
    "    else:\n",
    "        samples = patches\n",
    "        samples['is_tumor'] = False\n",
    "    \n",
    "    if filter_non_tissue:\n",
    "        samples = samples[samples.is_tissue == True] # remove patches with no tissue\n",
    "    samples['tile_loc'] = list(samples.index)\n",
    "    samples.reset_index(inplace=True, drop=True)\n",
    "    return samples"
   ]
  },
  {
   "cell_type": "code",
   "execution_count": 7,
   "metadata": {},
   "outputs": [],
   "source": [
    "from skimage.filters import threshold_otsu"
   ]
  },
  {
   "cell_type": "code",
   "execution_count": 15,
   "metadata": {},
   "outputs": [
    {
     "name": "stdout",
     "output_type": "stream",
     "text": [
      "Total patches in slide: 25261256\n"
     ]
    },
    {
     "data": {
      "text/plain": [
       "False    17571817\n",
       "True      7689439\n",
       "Name: is_tumor, dtype: int64"
      ]
     },
     "execution_count": 15,
     "metadata": {},
     "output_type": "execute_result"
    }
   ],
   "source": [
    "all_tissue_samples = find_patches_from_slide(slide_png_path)\n",
    "print('Total patches in slide: %d' % len(all_tissue_samples))\n",
    "all_tissue_samples.iloc[:10]\n",
    "all_tissue_samples.is_tumor.value_counts()"
   ]
  },
  {
   "cell_type": "code",
   "execution_count": 17,
   "metadata": {
    "scrolled": true
   },
   "outputs": [
    {
     "data": {
      "text/html": [
       "<div>\n",
       "<style scoped>\n",
       "    .dataframe tbody tr th:only-of-type {\n",
       "        vertical-align: middle;\n",
       "    }\n",
       "\n",
       "    .dataframe tbody tr th {\n",
       "        vertical-align: top;\n",
       "    }\n",
       "\n",
       "    .dataframe thead th {\n",
       "        text-align: right;\n",
       "    }\n",
       "</style>\n",
       "<table border=\"1\" class=\"dataframe\">\n",
       "  <thead>\n",
       "    <tr style=\"text-align: right;\">\n",
       "      <th></th>\n",
       "      <th>is_tissue</th>\n",
       "      <th>slide_path</th>\n",
       "      <th>is_tumor</th>\n",
       "      <th>tile_loc</th>\n",
       "    </tr>\n",
       "  </thead>\n",
       "  <tbody>\n",
       "    <tr>\n",
       "      <th>0</th>\n",
       "      <td>True</td>\n",
       "      <td>image(level4)/Tumor_16-S-042893_A1(positive cl...</td>\n",
       "      <td>False</td>\n",
       "      <td>(70, 3703)</td>\n",
       "    </tr>\n",
       "    <tr>\n",
       "      <th>1</th>\n",
       "      <td>True</td>\n",
       "      <td>image(level4)/Tumor_16-S-042893_A1(positive cl...</td>\n",
       "      <td>False</td>\n",
       "      <td>(70, 3704)</td>\n",
       "    </tr>\n",
       "    <tr>\n",
       "      <th>2</th>\n",
       "      <td>True</td>\n",
       "      <td>image(level4)/Tumor_16-S-042893_A1(positive cl...</td>\n",
       "      <td>False</td>\n",
       "      <td>(70, 3705)</td>\n",
       "    </tr>\n",
       "    <tr>\n",
       "      <th>3</th>\n",
       "      <td>True</td>\n",
       "      <td>image(level4)/Tumor_16-S-042893_A1(positive cl...</td>\n",
       "      <td>False</td>\n",
       "      <td>(71, 3702)</td>\n",
       "    </tr>\n",
       "    <tr>\n",
       "      <th>4</th>\n",
       "      <td>True</td>\n",
       "      <td>image(level4)/Tumor_16-S-042893_A1(positive cl...</td>\n",
       "      <td>False</td>\n",
       "      <td>(71, 3703)</td>\n",
       "    </tr>\n",
       "    <tr>\n",
       "      <th>5</th>\n",
       "      <td>True</td>\n",
       "      <td>image(level4)/Tumor_16-S-042893_A1(positive cl...</td>\n",
       "      <td>False</td>\n",
       "      <td>(71, 3704)</td>\n",
       "    </tr>\n",
       "    <tr>\n",
       "      <th>6</th>\n",
       "      <td>True</td>\n",
       "      <td>image(level4)/Tumor_16-S-042893_A1(positive cl...</td>\n",
       "      <td>False</td>\n",
       "      <td>(71, 3705)</td>\n",
       "    </tr>\n",
       "    <tr>\n",
       "      <th>7</th>\n",
       "      <td>True</td>\n",
       "      <td>image(level4)/Tumor_16-S-042893_A1(positive cl...</td>\n",
       "      <td>False</td>\n",
       "      <td>(72, 3702)</td>\n",
       "    </tr>\n",
       "    <tr>\n",
       "      <th>8</th>\n",
       "      <td>True</td>\n",
       "      <td>image(level4)/Tumor_16-S-042893_A1(positive cl...</td>\n",
       "      <td>False</td>\n",
       "      <td>(72, 3704)</td>\n",
       "    </tr>\n",
       "    <tr>\n",
       "      <th>9</th>\n",
       "      <td>True</td>\n",
       "      <td>image(level4)/Tumor_16-S-042893_A1(positive cl...</td>\n",
       "      <td>False</td>\n",
       "      <td>(72, 3705)</td>\n",
       "    </tr>\n",
       "  </tbody>\n",
       "</table>\n",
       "</div>"
      ],
      "text/plain": [
       "   is_tissue                                         slide_path  is_tumor  \\\n",
       "0       True  image(level4)/Tumor_16-S-042893_A1(positive cl...     False   \n",
       "1       True  image(level4)/Tumor_16-S-042893_A1(positive cl...     False   \n",
       "2       True  image(level4)/Tumor_16-S-042893_A1(positive cl...     False   \n",
       "3       True  image(level4)/Tumor_16-S-042893_A1(positive cl...     False   \n",
       "4       True  image(level4)/Tumor_16-S-042893_A1(positive cl...     False   \n",
       "5       True  image(level4)/Tumor_16-S-042893_A1(positive cl...     False   \n",
       "6       True  image(level4)/Tumor_16-S-042893_A1(positive cl...     False   \n",
       "7       True  image(level4)/Tumor_16-S-042893_A1(positive cl...     False   \n",
       "8       True  image(level4)/Tumor_16-S-042893_A1(positive cl...     False   \n",
       "9       True  image(level4)/Tumor_16-S-042893_A1(positive cl...     False   \n",
       "\n",
       "     tile_loc  \n",
       "0  (70, 3703)  \n",
       "1  (70, 3704)  \n",
       "2  (70, 3705)  \n",
       "3  (71, 3702)  \n",
       "4  (71, 3703)  \n",
       "5  (71, 3704)  \n",
       "6  (71, 3705)  \n",
       "7  (72, 3702)  \n",
       "8  (72, 3704)  \n",
       "9  (72, 3705)  "
      ]
     },
     "execution_count": 17,
     "metadata": {},
     "output_type": "execute_result"
    }
   ],
   "source": [
    "all_tissue_samples.iloc[:10]"
   ]
  },
  {
   "cell_type": "code",
   "execution_count": 22,
   "metadata": {
    "collapsed": true
   },
   "outputs": [
    {
     "name": "stdout",
     "output_type": "stream",
     "text": [
      "Collecting opencv-python\n",
      "  Downloading https://files.pythonhosted.org/packages/96/30/99bd865802cd5f425c42efd2ee4e10bd3bc605640008f03e3c72a1dbe320/opencv_python-4.0.0.21-cp36-cp36m-win_amd64.whl (30.4MB)\n",
      "Requirement already satisfied: numpy>=1.11.3 in c:\\users\\p\\anaconda3\\envs\\tu\\lib\\site-packages (from opencv-python) (1.15.4)\n",
      "Installing collected packages: opencv-python\n",
      "Successfully installed opencv-python-4.0.0.21\n"
     ]
    }
   ],
   "source": [
    "# !pip install opencv-python"
   ]
  },
  {
   "cell_type": "code",
   "execution_count": 23,
   "metadata": {
    "scrolled": true
   },
   "outputs": [
    {
     "name": "stderr",
     "output_type": "stream",
     "text": [
      "Using TensorFlow backend.\n"
     ]
    }
   ],
   "source": [
    "import cv2\n",
    "from keras.utils.np_utils import to_categorical"
   ]
  },
  {
   "cell_type": "code",
   "execution_count": 27,
   "metadata": {},
   "outputs": [],
   "source": [
    "from openslide.deepzoom import DeepZoomGenerator "
   ]
  },
  {
   "cell_type": "code",
   "execution_count": 24,
   "metadata": {},
   "outputs": [],
   "source": [
    "NUM_CLASSES = 2 # not_tumor, tumor\n",
    "\n",
    "def gen_imgs(samples, batch_size, base_truth_dir=BASE_TRUTH_DIR, shuffle=True):\n",
    "    \"\"\"This function returns a generator that \n",
    "    yields tuples of (\n",
    "        X: tensor, float - [batch_size, 256, 256, 3]\n",
    "        y: tensor, int32 - [batch_size, 256, 256, NUM_CLASSES]\n",
    "    )\n",
    "    \n",
    "    \n",
    "    input: samples: samples dataframe\n",
    "    input: batch_size: The number of images to return for each pull\n",
    "    output: yield (X_train, y_train): generator of X, y tensors\n",
    "    \n",
    "    option: base_truth_dir: path, directory of truth slides\n",
    "    option: shuffle: bool, if True shuffle samples\n",
    "    \"\"\"\n",
    "    \n",
    "    num_samples = len(samples)\n",
    "    while 1: # Loop forever so the generator never terminates\n",
    "        if shuffle:\n",
    "            samples = samples.sample(frac=1) # shuffle samples\n",
    "        \n",
    "        for offset in range(0, num_samples, batch_size):\n",
    "            batch_samples = samples.iloc[offset:offset+batch_size]\n",
    "        \n",
    "            images = []\n",
    "            masks = []\n",
    "            for _, batch_sample in batch_samples.iterrows():\n",
    "                slide_contains_tumor = osp.basename(batch_sample.slide_path).startswith('Tumor_')\n",
    "                \n",
    "                with openslide.open_slide(batch_sample.slide_path) as slide:\n",
    "                    tiles = DeepZoomGenerator(slide, tile_size=256, overlap=0, limit_bounds=False)\n",
    "                    img = tiles.get_tile(tiles.level_count-1, batch_sample.tile_loc[::-1])\n",
    "                    \n",
    "                # only load truth mask for tumor slides\n",
    "                if slide_contains_tumor:\n",
    "                    truth_slide_path = base_truth_dir / osp.basename(slide_path).replace('.tif', '_Mask.tif')\n",
    "                    with openslide.open_slide(str(truth_slide_path)) as truth:\n",
    "                        truth_tiles = DeepZoomGenerator(truth, tile_size=256, overlap=0, limit_bounds=False)\n",
    "                        mask = truth_tiles.get_tile(truth_tiles.level_count-1, batch_sample.tile_loc[::-1])\n",
    "                        mask = (cv2.cvtColor(np.array(mask), cv2.COLOR_RGB2GRAY) > 0).astype(int)\n",
    "                else:\n",
    "                    mask = np.zeros((256, 256))\n",
    "\n",
    "                images.append(np.array(img))\n",
    "                masks.append(mask)\n",
    "\n",
    "            X_train = np.array(images)\n",
    "            y_train = np.array(masks)\n",
    "            y_train = to_categorical(y_train, num_classes=2).reshape(y_train.shape[0], 256, 256, 2)\n",
    "            yield X_train, y_train"
   ]
  },
  {
   "cell_type": "code",
   "execution_count": 29,
   "metadata": {},
   "outputs": [],
   "source": [
    "sample_gen = gen_imgs(all_tissue_samples.sample(32, random_state=42), 32, shuffle=False)"
   ]
  },
  {
   "cell_type": "code",
   "execution_count": 30,
   "metadata": {},
   "outputs": [
    {
     "ename": "ValueError",
     "evalue": "Invalid address",
     "output_type": "error",
     "traceback": [
      "\u001b[1;31m---------------------------------------------------------------------------\u001b[0m",
      "\u001b[1;31mValueError\u001b[0m                                Traceback (most recent call last)",
      "\u001b[1;32m<timed exec>\u001b[0m in \u001b[0;36m<module>\u001b[1;34m\u001b[0m\n",
      "\u001b[1;32m<ipython-input-24-aa5f85f04e3a>\u001b[0m in \u001b[0;36mgen_imgs\u001b[1;34m(samples, batch_size, base_truth_dir, shuffle)\u001b[0m\n\u001b[0;32m     32\u001b[0m                 \u001b[1;32mwith\u001b[0m \u001b[0mopenslide\u001b[0m\u001b[1;33m.\u001b[0m\u001b[0mopen_slide\u001b[0m\u001b[1;33m(\u001b[0m\u001b[0mbatch_sample\u001b[0m\u001b[1;33m.\u001b[0m\u001b[0mslide_path\u001b[0m\u001b[1;33m)\u001b[0m \u001b[1;32mas\u001b[0m \u001b[0mslide\u001b[0m\u001b[1;33m:\u001b[0m\u001b[1;33m\u001b[0m\u001b[1;33m\u001b[0m\u001b[0m\n\u001b[0;32m     33\u001b[0m                     \u001b[0mtiles\u001b[0m \u001b[1;33m=\u001b[0m \u001b[0mDeepZoomGenerator\u001b[0m\u001b[1;33m(\u001b[0m\u001b[0mslide\u001b[0m\u001b[1;33m,\u001b[0m \u001b[0mtile_size\u001b[0m\u001b[1;33m=\u001b[0m\u001b[1;36m256\u001b[0m\u001b[1;33m,\u001b[0m \u001b[0moverlap\u001b[0m\u001b[1;33m=\u001b[0m\u001b[1;36m0\u001b[0m\u001b[1;33m,\u001b[0m \u001b[0mlimit_bounds\u001b[0m\u001b[1;33m=\u001b[0m\u001b[1;32mFalse\u001b[0m\u001b[1;33m)\u001b[0m\u001b[1;33m\u001b[0m\u001b[1;33m\u001b[0m\u001b[0m\n\u001b[1;32m---> 34\u001b[1;33m                     \u001b[0mimg\u001b[0m \u001b[1;33m=\u001b[0m \u001b[0mtiles\u001b[0m\u001b[1;33m.\u001b[0m\u001b[0mget_tile\u001b[0m\u001b[1;33m(\u001b[0m\u001b[0mtiles\u001b[0m\u001b[1;33m.\u001b[0m\u001b[0mlevel_count\u001b[0m\u001b[1;33m-\u001b[0m\u001b[1;36m1\u001b[0m\u001b[1;33m,\u001b[0m \u001b[0mbatch_sample\u001b[0m\u001b[1;33m.\u001b[0m\u001b[0mtile_loc\u001b[0m\u001b[1;33m[\u001b[0m\u001b[1;33m:\u001b[0m\u001b[1;33m:\u001b[0m\u001b[1;33m-\u001b[0m\u001b[1;36m1\u001b[0m\u001b[1;33m]\u001b[0m\u001b[1;33m)\u001b[0m\u001b[1;33m\u001b[0m\u001b[1;33m\u001b[0m\u001b[0m\n\u001b[0m\u001b[0;32m     35\u001b[0m \u001b[1;33m\u001b[0m\u001b[0m\n\u001b[0;32m     36\u001b[0m                 \u001b[1;31m# only load truth mask for tumor slides\u001b[0m\u001b[1;33m\u001b[0m\u001b[1;33m\u001b[0m\u001b[1;33m\u001b[0m\u001b[0m\n",
      "\u001b[1;32m~\\Anaconda3\\envs\\tu\\lib\\site-packages\\openslide\\deepzoom.py\u001b[0m in \u001b[0;36mget_tile\u001b[1;34m(self, level, address)\u001b[0m\n\u001b[0;32m    147\u001b[0m \u001b[1;33m\u001b[0m\u001b[0m\n\u001b[0;32m    148\u001b[0m         \u001b[1;31m# Read tile\u001b[0m\u001b[1;33m\u001b[0m\u001b[1;33m\u001b[0m\u001b[1;33m\u001b[0m\u001b[0m\n\u001b[1;32m--> 149\u001b[1;33m         \u001b[0margs\u001b[0m\u001b[1;33m,\u001b[0m \u001b[0mz_size\u001b[0m \u001b[1;33m=\u001b[0m \u001b[0mself\u001b[0m\u001b[1;33m.\u001b[0m\u001b[0m_get_tile_info\u001b[0m\u001b[1;33m(\u001b[0m\u001b[0mlevel\u001b[0m\u001b[1;33m,\u001b[0m \u001b[0maddress\u001b[0m\u001b[1;33m)\u001b[0m\u001b[1;33m\u001b[0m\u001b[1;33m\u001b[0m\u001b[0m\n\u001b[0m\u001b[0;32m    150\u001b[0m         \u001b[0mtile\u001b[0m \u001b[1;33m=\u001b[0m \u001b[0mself\u001b[0m\u001b[1;33m.\u001b[0m\u001b[0m_osr\u001b[0m\u001b[1;33m.\u001b[0m\u001b[0mread_region\u001b[0m\u001b[1;33m(\u001b[0m\u001b[1;33m*\u001b[0m\u001b[0margs\u001b[0m\u001b[1;33m)\u001b[0m\u001b[1;33m\u001b[0m\u001b[1;33m\u001b[0m\u001b[0m\n\u001b[0;32m    151\u001b[0m \u001b[1;33m\u001b[0m\u001b[0m\n",
      "\u001b[1;32m~\\Anaconda3\\envs\\tu\\lib\\site-packages\\openslide\\deepzoom.py\u001b[0m in \u001b[0;36m_get_tile_info\u001b[1;34m(self, dz_level, t_location)\u001b[0m\n\u001b[0;32m    166\u001b[0m         \u001b[1;32mfor\u001b[0m \u001b[0mt\u001b[0m\u001b[1;33m,\u001b[0m \u001b[0mt_lim\u001b[0m \u001b[1;32min\u001b[0m \u001b[0mzip\u001b[0m\u001b[1;33m(\u001b[0m\u001b[0mt_location\u001b[0m\u001b[1;33m,\u001b[0m \u001b[0mself\u001b[0m\u001b[1;33m.\u001b[0m\u001b[0m_t_dimensions\u001b[0m\u001b[1;33m[\u001b[0m\u001b[0mdz_level\u001b[0m\u001b[1;33m]\u001b[0m\u001b[1;33m)\u001b[0m\u001b[1;33m:\u001b[0m\u001b[1;33m\u001b[0m\u001b[1;33m\u001b[0m\u001b[0m\n\u001b[0;32m    167\u001b[0m             \u001b[1;32mif\u001b[0m \u001b[0mt\u001b[0m \u001b[1;33m<\u001b[0m \u001b[1;36m0\u001b[0m \u001b[1;32mor\u001b[0m \u001b[0mt\u001b[0m \u001b[1;33m>=\u001b[0m \u001b[0mt_lim\u001b[0m\u001b[1;33m:\u001b[0m\u001b[1;33m\u001b[0m\u001b[1;33m\u001b[0m\u001b[0m\n\u001b[1;32m--> 168\u001b[1;33m                 \u001b[1;32mraise\u001b[0m \u001b[0mValueError\u001b[0m\u001b[1;33m(\u001b[0m\u001b[1;34m\"Invalid address\"\u001b[0m\u001b[1;33m)\u001b[0m\u001b[1;33m\u001b[0m\u001b[1;33m\u001b[0m\u001b[0m\n\u001b[0m\u001b[0;32m    169\u001b[0m \u001b[1;33m\u001b[0m\u001b[0m\n\u001b[0;32m    170\u001b[0m         \u001b[1;31m# Get preferred slide level\u001b[0m\u001b[1;33m\u001b[0m\u001b[1;33m\u001b[0m\u001b[1;33m\u001b[0m\u001b[0m\n",
      "\u001b[1;31mValueError\u001b[0m: Invalid address"
     ]
    }
   ],
   "source": [
    "%time example_X, example_y  = next(sample_gen)"
   ]
  },
  {
   "cell_type": "code",
   "execution_count": null,
   "metadata": {},
   "outputs": [],
   "source": []
  }
 ],
 "metadata": {
  "kernelspec": {
   "display_name": "Python 3",
   "language": "python",
   "name": "python3"
  },
  "language_info": {
   "codemirror_mode": {
    "name": "ipython",
    "version": 3
   },
   "file_extension": ".py",
   "mimetype": "text/x-python",
   "name": "python",
   "nbconvert_exporter": "python",
   "pygments_lexer": "ipython3",
   "version": "3.6.7"
  }
 },
 "nbformat": 4,
 "nbformat_minor": 2
}
