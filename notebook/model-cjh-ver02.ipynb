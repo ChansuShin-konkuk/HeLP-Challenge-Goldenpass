{
 "cells": [
  {
   "cell_type": "markdown",
   "metadata": {},
   "source": [
    "# Breast Cancer Detection Model Ver01"
   ]
  },
  {
   "cell_type": "markdown",
   "metadata": {},
   "source": [
    "## 0. Import Module\n",
    "\n",
    "- [OpenSlide](https://openslide.org/api/python/#module-openslide)"
   ]
  },
  {
   "cell_type": "code",
   "execution_count": 1,
   "metadata": {},
   "outputs": [],
   "source": [
    "%matplotlib inline\n",
    "import os\n",
    "import csv\n",
    "import cv2\n",
    "import openslide\n",
    "import matplotlib.pyplot as plt\n",
    "import numpy as np\n",
    "import pandas as pd\n",
    "import tensorflow as tf\n",
    "\n",
    "from tensorflow.keras import layers, models\n",
    "from tensorflow.keras import backend as K\n",
    "from tensorflow.keras.utils import to_categorical\n",
    "from openslide.deepzoom import DeepZoomGenerator"
   ]
  },
  {
   "cell_type": "markdown",
   "metadata": {},
   "source": [
    " "
   ]
  },
  {
   "cell_type": "markdown",
   "metadata": {},
   "source": [
    "## 1. Data Load"
   ]
  },
  {
   "cell_type": "code",
   "execution_count": 2,
   "metadata": {},
   "outputs": [],
   "source": [
    "# slide path\n",
    "slide_path = '../data/train/pos/16-S-042893_A1.mrxs'  # pos\n",
    "# neg_slide_path = '../data/train/16-S-042725_A.mrxs'  # neg\n",
    "\n",
    "# mask path\n",
    "mask_path = '../data/train/pos/Mask_16-S-042893_A1.png'  # pos\n",
    "# neg_mask_path = '../data/train/Mask_16-S-042725_A.png'  # neg\n",
    "\n",
    "# openslide\n",
    "## slide\n",
    "slide = openslide.open_slide(slide_path)\n",
    "# neg_slide = openslide.open_slide(neg_slide_path)\n",
    "## mask\n",
    "mask = openslide.open_slide(mask_path)\n",
    "# neg_mask = openslide.open_slide(neg_mask_path)"
   ]
  },
  {
   "cell_type": "code",
   "execution_count": 3,
   "metadata": {},
   "outputs": [
    {
     "name": "stdout",
     "output_type": "stream",
     "text": [
      "origin pos_slide.dimensions : (93970, 234042)\n",
      "origin pos_mask.dimensions : (5316, 10007)\n"
     ]
    }
   ],
   "source": [
    "print('origin pos_slide.dimensions :', slide.dimensions)\n",
    "# print('origin neg_slide.dimensions :', neg_slide.dimensions)\n",
    "print('origin pos_mask.dimensions :', mask.dimensions)\n",
    "# print('origin neg_mask.dimensions :', neg_mask.dimensions)"
   ]
  },
  {
   "cell_type": "markdown",
   "metadata": {},
   "source": [
    " "
   ]
  },
  {
   "cell_type": "markdown",
   "metadata": {},
   "source": [
    "## 2. Patch Gen"
   ]
  },
  {
   "cell_type": "markdown",
   "metadata": {},
   "source": [
    "### 1) Find Patches from Slide"
   ]
  },
  {
   "cell_type": "code",
   "execution_count": null,
   "metadata": {},
   "outputs": [],
   "source": [
    "patch_size = 256\n",
    "is_train = True\n",
    "\n",
    "# 해당 데이터가 양성인지 판단\n",
    "slide_contains_tumor = 'pos' in slide_path\n",
    "\n",
    "# read_region을 위한 start, level, size 계산\n",
    "bounds_offset_props = (openslide.PROPERTY_NAME_BOUNDS_X, openslide.PROPERTY_NAME_BOUNDS_Y)\n",
    "bounds_size_props = (openslide.PROPERTY_NAME_BOUNDS_WIDTH, openslide.PROPERTY_NAME_BOUNDS_HEIGHT)\n",
    "\n",
    "with openslide.open_slide(slide_path) as slide:\n",
    "    start = (int(slide.properties.get(bounds_offset_props[0], 0)), \n",
    "             int(slide.properties.get(bounds_offset_props[1], 0)))\n",
    "    level = int(np.log2(patch_size))\n",
    "    \n",
    "    size_scale = tuple(int(slide.properties.get(prop, dim)) / dim \n",
    "                       for prop, dim in zip(bounds_size_props, slide.dimensions))\n",
    "    l_dimensions = [(int(np.ceil(dim_x * size_scale[0])), int(np.ceil(dim_y * size_scale[1])))\n",
    "                    for dim_x, dim_y in slide.level_dimensions]\n",
    "    size = l_dimensions[level]\n",
    "    \n",
    "    slide4 = slide.read_region(start, level, size)\n",
    "    \n",
    "    "
   ]
  },
  {
   "cell_type": "code",
   "execution_count": 16,
   "metadata": {},
   "outputs": [],
   "source": [
    "bounds_offset_props = (openslide.PROPERTY_NAME_BOUNDS_X, openslide.PROPERTY_NAME_BOUNDS_Y)\n",
    "bounds_size_props = (openslide.PROPERTY_NAME_BOUNDS_WIDTH, openslide.PROPERTY_NAME_BOUNDS_HEIGHT)"
   ]
  },
  {
   "cell_type": "code",
   "execution_count": 28,
   "metadata": {},
   "outputs": [
    {
     "data": {
      "text/plain": [
       "(0.905097371501543, 0.6841122533562352)"
      ]
     },
     "execution_count": 28,
     "metadata": {},
     "output_type": "execute_result"
    }
   ],
   "source": [
    "size_scale = tuple(int(slide.properties.get(prop, dim)) / dim \n",
    "                       for prop, dim in zip(bounds_size_props, slide.dimensions))\n",
    "size_scale"
   ]
  },
  {
   "cell_type": "code",
   "execution_count": 27,
   "metadata": {},
   "outputs": [
    {
     "name": "stdout",
     "output_type": "stream",
     "text": [
      "(93970, 234042)\n",
      "(46985, 117021)\n",
      "(23492, 58510)\n",
      "(11746, 29255)\n",
      "(5873, 14627)\n",
      "(2936, 7313)\n",
      "(1468, 3656)\n",
      "(734, 1828)\n",
      "(367, 914)\n",
      "(183, 457)\n"
     ]
    }
   ],
   "source": [
    "for dim in slide.level_dimensions:\n",
    "    for "
   ]
  },
  {
   "cell_type": "code",
   "execution_count": 32,
   "metadata": {},
   "outputs": [
    {
     "data": {
      "text/plain": [
       "((85052, 160111),\n",
       " (42526, 80056),\n",
       " (21263, 40028),\n",
       " (10632, 20014),\n",
       " (5316, 10007),\n",
       " (2658, 5003),\n",
       " (1329, 2502),\n",
       " (665, 1251),\n",
       " (333, 626),\n",
       " (166, 313))"
      ]
     },
     "execution_count": 32,
     "metadata": {},
     "output_type": "execute_result"
    }
   ],
   "source": [
    "tuple(tuple(int(np.ceil(l_lim * scale))\n",
    "                for l_lim, scale in zip(l_size, size_scale))\n",
    "                    for l_size in slide.level_dimensions)"
   ]
  },
  {
   "cell_type": "code",
   "execution_count": 35,
   "metadata": {},
   "outputs": [],
   "source": [
    "# for l_size in slide.level_dimensions:\n",
    "#     for l_lim, scale in zip(l_size, size_scale):\n",
    "#         print(l_lim, ' |', scale)"
   ]
  },
  {
   "cell_type": "code",
   "execution_count": 41,
   "metadata": {},
   "outputs": [
    {
     "ename": "TypeError",
     "evalue": "tuple() takes at most 1 argument (2 given)",
     "output_type": "error",
     "traceback": [
      "\u001b[1;31m---------------------------------------------------------------------------\u001b[0m",
      "\u001b[1;31mTypeError\u001b[0m                                 Traceback (most recent call last)",
      "\u001b[1;32m<ipython-input-41-d69912eac40f>\u001b[0m in \u001b[0;36m<module>\u001b[1;34m\u001b[0m\n\u001b[0;32m      1\u001b[0m tuple(int(np.ceil(dim_x * size_scale[0])), \n\u001b[1;32m----> 2\u001b[1;33m            int(np.ceil(dim_y * size_scale[1])))\n\u001b[0m",
      "\u001b[1;31mTypeError\u001b[0m: tuple() takes at most 1 argument (2 given)"
     ]
    }
   ],
   "source": [
    "tuple()"
   ]
  },
  {
   "cell_type": "code",
   "execution_count": 43,
   "metadata": {},
   "outputs": [
    {
     "name": "stdout",
     "output_type": "stream",
     "text": [
      "93970  | 0.905097371501543\n",
      "234042  | 0.6841122533562352\n",
      "46985  | 0.905097371501543\n",
      "117021  | 0.6841122533562352\n",
      "23492  | 0.905097371501543\n",
      "58510  | 0.6841122533562352\n",
      "11746  | 0.905097371501543\n",
      "29255  | 0.6841122533562352\n",
      "5873  | 0.905097371501543\n",
      "14627  | 0.6841122533562352\n",
      "2936  | 0.905097371501543\n",
      "7313  | 0.6841122533562352\n",
      "1468  | 0.905097371501543\n",
      "3656  | 0.6841122533562352\n",
      "734  | 0.905097371501543\n",
      "1828  | 0.6841122533562352\n",
      "367  | 0.905097371501543\n",
      "914  | 0.6841122533562352\n",
      "183  | 0.905097371501543\n",
      "457  | 0.6841122533562352\n"
     ]
    }
   ],
   "source": [
    "for l_size in slide.level_dimensions:\n",
    "    for l_lim, scale in zip(l_size, size_scale):\n",
    "        print(l_lim, ' |', scale)"
   ]
  },
  {
   "cell_type": "code",
   "execution_count": 49,
   "metadata": {},
   "outputs": [],
   "source": [
    "l_dimensions = [(int(np.ceil(dim_x * size_scale[0])), int(np.ceil(dim_y * size_scale[1])))\n",
    "                for dim_x, dim_y in slide.level_dimensions]"
   ]
  },
  {
   "cell_type": "code",
   "execution_count": 50,
   "metadata": {},
   "outputs": [
    {
     "data": {
      "text/plain": [
       "[(85052, 160111),\n",
       " (42526, 80056),\n",
       " (21263, 40028),\n",
       " (10632, 20014),\n",
       " (5316, 10007),\n",
       " (2658, 5003),\n",
       " (1329, 2502),\n",
       " (665, 1251),\n",
       " (333, 626),\n",
       " (166, 313)]"
      ]
     },
     "execution_count": 50,
     "metadata": {},
     "output_type": "execute_result"
    }
   ],
   "source": [
    "l_dimensions"
   ]
  },
  {
   "cell_type": "code",
   "execution_count": 48,
   "metadata": {},
   "outputs": [
    {
     "name": "stdout",
     "output_type": "stream",
     "text": [
      "(85052, 160111)\n",
      "(42526, 80056)\n",
      "(21263, 40028)\n",
      "(10632, 20014)\n",
      "(5316, 10007)\n",
      "(2658, 5003)\n",
      "(1329, 2502)\n",
      "(665, 1251)\n",
      "(333, 626)\n",
      "(166, 313)\n"
     ]
    }
   ],
   "source": [
    "for dim_x, dim_y in slide.level_dimensions:\n",
    "    tmp = (int(np.ceil(dim_x * size_scale[0])), \n",
    "           int(np.ceil(dim_y * size_scale[1])))\n",
    "    print(tmp)"
   ]
  },
  {
   "cell_type": "code",
   "execution_count": 45,
   "metadata": {},
   "outputs": [],
   "source": [
    "a = tuple((1, 2, 3))"
   ]
  },
  {
   "cell_type": "code",
   "execution_count": 46,
   "metadata": {},
   "outputs": [
    {
     "data": {
      "text/plain": [
       "(1, 2, 3)"
      ]
     },
     "execution_count": 46,
     "metadata": {},
     "output_type": "execute_result"
    }
   ],
   "source": [
    "a"
   ]
  },
  {
   "cell_type": "code",
   "execution_count": 47,
   "metadata": {},
   "outputs": [
    {
     "data": {
      "text/plain": [
       "(1, 2, 3, 4, 5)"
      ]
     },
     "execution_count": 47,
     "metadata": {},
     "output_type": "execute_result"
    }
   ],
   "source": [
    "a + (4, 5)"
   ]
  }
 ],
 "metadata": {
  "kernelspec": {
   "display_name": "TensorFlow",
   "language": "python",
   "name": "tensorflow"
  },
  "language_info": {
   "codemirror_mode": {
    "name": "ipython",
    "version": 3
   },
   "file_extension": ".py",
   "mimetype": "text/x-python",
   "name": "python",
   "nbconvert_exporter": "python",
   "pygments_lexer": "ipython3",
   "version": "3.6.8"
  }
 },
 "nbformat": 4,
 "nbformat_minor": 2
}
