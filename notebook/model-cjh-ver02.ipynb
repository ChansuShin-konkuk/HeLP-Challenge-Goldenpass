{
 "cells": [
  {
   "cell_type": "markdown",
   "metadata": {},
   "source": [
    "# Breast Cancer Detection Model Ver01"
   ]
  },
  {
   "cell_type": "markdown",
   "metadata": {},
   "source": [
    "## 0. Import Module\n",
    "\n",
    "- [OpenSlide](https://openslide.org/api/python/#module-openslide)"
   ]
  },
  {
   "cell_type": "code",
   "execution_count": 116,
   "metadata": {},
   "outputs": [],
   "source": [
    "%matplotlib inline\n",
    "import os\n",
    "import csv\n",
    "import cv2\n",
    "import openslide\n",
    "import matplotlib.pyplot as plt\n",
    "import numpy as np\n",
    "import pandas as pd\n",
    "import tensorflow as tf\n",
    "\n",
    "from skimage.filters import threshold_otsu\n",
    "from tensorflow.keras import layers, models\n",
    "from tensorflow.keras import backend as K\n",
    "from tensorflow.keras.utils import to_categorical\n",
    "from openslide.deepzoom import DeepZoomGenerator"
   ]
  },
  {
   "cell_type": "markdown",
   "metadata": {},
   "source": [
    " "
   ]
  },
  {
   "cell_type": "markdown",
   "metadata": {},
   "source": [
    "## 1. Data Load"
   ]
  },
  {
   "cell_type": "code",
   "execution_count": 125,
   "metadata": {},
   "outputs": [],
   "source": [
    "# slide path\n",
    "slide_path = '../data/train/pos/16-S-042893_A1.mrxs'  # pos\n",
    "# neg_slide_path = '../data/train/16-S-042725_A.mrxs'  # neg\n",
    "\n",
    "# mask path\n",
    "truth_path = '../data/train/pos/Mask_16-S-042893_A1.png'  # pos\n",
    "# neg_mask_path = '../data/train/Mask_16-S-042725_A.png'  # neg\n",
    "\n",
    "# openslide\n",
    "## slide\n",
    "slide = openslide.open_slide(slide_path)\n",
    "# neg_slide = openslide.open_slide(neg_slide_path)\n",
    "## mask\n",
    "truth = openslide.open_slide(truth_path)\n",
    "# neg_mask = openslide.open_slide(neg_mask_path)"
   ]
  },
  {
   "cell_type": "code",
   "execution_count": 126,
   "metadata": {},
   "outputs": [
    {
     "name": "stdout",
     "output_type": "stream",
     "text": [
      "origin slide.dimensions : (93970, 234042)\n",
      "origin truth.dimensions : (5316, 10007)\n"
     ]
    }
   ],
   "source": [
    "print('origin slide.dimensions :', slide.dimensions)\n",
    "# print('origin neg_slide.dimensions :', neg_slide.dimensions)\n",
    "print('origin truth.dimensions :', truth.dimensions)\n",
    "# print('origin neg_mask.dimensions :', neg_mask.dimensions)"
   ]
  },
  {
   "cell_type": "markdown",
   "metadata": {},
   "source": [
    " "
   ]
  },
  {
   "cell_type": "markdown",
   "metadata": {},
   "source": [
    "## 2. Patch Gen"
   ]
  },
  {
   "cell_type": "markdown",
   "metadata": {},
   "source": [
    "### 1) Find Patches from Slide"
   ]
  },
  {
   "cell_type": "code",
   "execution_count": 15,
   "metadata": {},
   "outputs": [],
   "source": [
    "patch_size = 256\n",
    "is_train = True\n",
    "\n",
    "# 해당 데이터가 양성인지 판단\n",
    "slide_contains_tumor = 'pos' in slide_path\n",
    "\n",
    "# read_region을 위한 start, level, size 계산\n",
    "bounds_offset_props = (openslide.PROPERTY_NAME_BOUNDS_X, openslide.PROPERTY_NAME_BOUNDS_Y)\n",
    "bounds_size_props = (openslide.PROPERTY_NAME_BOUNDS_WIDTH, openslide.PROPERTY_NAME_BOUNDS_HEIGHT)\n",
    "\n",
    "with openslide.open_slide(slide_path) as slide:\n",
    "    start = (int(slide.properties.get(bounds_offset_props[0], 0)), \n",
    "             int(slide.properties.get(bounds_offset_props[1], 0)))\n",
    "    level = int(np.log2(patch_size))\n",
    "    \n",
    "    size_scale = tuple(int(slide.properties.get(prop, dim)) / dim \n",
    "                       for prop, dim in zip(bounds_size_props, slide.dimensions))\n",
    "    l_dimensions = [(int(np.ceil(dim_x * size_scale[0])), int(np.ceil(dim_y * size_scale[1])))\n",
    "                    for dim_x, dim_y in slide.level_dimensions]\n",
    "    size = l_dimensions[level]\n",
    "    \n",
    "    slide4 = slide.read_region(start, level, size)"
   ]
  },
  {
   "cell_type": "code",
   "execution_count": 124,
   "metadata": {},
   "outputs": [
    {
     "data": {
      "text/html": [
       "<div>\n",
       "<style scoped>\n",
       "    .dataframe tbody tr th:only-of-type {\n",
       "        vertical-align: middle;\n",
       "    }\n",
       "\n",
       "    .dataframe tbody tr th {\n",
       "        vertical-align: top;\n",
       "    }\n",
       "\n",
       "    .dataframe thead th {\n",
       "        text-align: right;\n",
       "    }\n",
       "</style>\n",
       "<table border=\"1\" class=\"dataframe\">\n",
       "  <thead>\n",
       "    <tr style=\"text-align: right;\">\n",
       "      <th></th>\n",
       "      <th></th>\n",
       "      <th>is_tissue</th>\n",
       "      <th>slide_path</th>\n",
       "    </tr>\n",
       "  </thead>\n",
       "  <tbody>\n",
       "    <tr>\n",
       "      <th rowspan=\"5\" valign=\"top\">0</th>\n",
       "      <th>0</th>\n",
       "      <td>False</td>\n",
       "      <td>../data/train/pos/16-S-042893_A1.mrxs</td>\n",
       "    </tr>\n",
       "    <tr>\n",
       "      <th>1</th>\n",
       "      <td>False</td>\n",
       "      <td>../data/train/pos/16-S-042893_A1.mrxs</td>\n",
       "    </tr>\n",
       "    <tr>\n",
       "      <th>2</th>\n",
       "      <td>False</td>\n",
       "      <td>../data/train/pos/16-S-042893_A1.mrxs</td>\n",
       "    </tr>\n",
       "    <tr>\n",
       "      <th>3</th>\n",
       "      <td>False</td>\n",
       "      <td>../data/train/pos/16-S-042893_A1.mrxs</td>\n",
       "    </tr>\n",
       "    <tr>\n",
       "      <th>4</th>\n",
       "      <td>False</td>\n",
       "      <td>../data/train/pos/16-S-042893_A1.mrxs</td>\n",
       "    </tr>\n",
       "  </tbody>\n",
       "</table>\n",
       "</div>"
      ],
      "text/plain": [
       "     is_tissue                             slide_path\n",
       "0 0      False  ../data/train/pos/16-S-042893_A1.mrxs\n",
       "  1      False  ../data/train/pos/16-S-042893_A1.mrxs\n",
       "  2      False  ../data/train/pos/16-S-042893_A1.mrxs\n",
       "  3      False  ../data/train/pos/16-S-042893_A1.mrxs\n",
       "  4      False  ../data/train/pos/16-S-042893_A1.mrxs"
      ]
     },
     "execution_count": 124,
     "metadata": {},
     "output_type": "execute_result"
    }
   ],
   "source": [
    "# is_tissue 부분\n",
    "slide4_grey = np.array(slide4.convert('L'))\n",
    "\n",
    "# background에 대한 작업\n",
    "slide4_not_black = slide4_grey[slide4_grey > 0]\n",
    "# thresh = threshold_otsu(slide4_not_black)\n",
    "ret, th = cv2.threshold(slide4_not_black, 0, 255, \n",
    "                        cv2.THRESH_BINARY+cv2.THRESH_OTSU)\n",
    "\n",
    "binary = slide4_grey > 0  # black == 0\n",
    "h, w = slide4_grey.shape\n",
    "for i in range(h):\n",
    "    for j in range(w):\n",
    "        if slide4_grey[i, j] > ret:\n",
    "            binary[i, j] = False\n",
    "            \n",
    "# patch_df\n",
    "patches = pd.DataFrame(pd.DataFrame(binary).stack(), columns=['is_tissue'])\n",
    "patches['slide_path'] = slide_path\n",
    "patches.head()"
   ]
  },
  {
   "cell_type": "code",
   "execution_count": 127,
   "metadata": {},
   "outputs": [
    {
     "data": {
      "text/html": [
       "<div>\n",
       "<style scoped>\n",
       "    .dataframe tbody tr th:only-of-type {\n",
       "        vertical-align: middle;\n",
       "    }\n",
       "\n",
       "    .dataframe tbody tr th {\n",
       "        vertical-align: top;\n",
       "    }\n",
       "\n",
       "    .dataframe thead th {\n",
       "        text-align: right;\n",
       "    }\n",
       "</style>\n",
       "<table border=\"1\" class=\"dataframe\">\n",
       "  <thead>\n",
       "    <tr style=\"text-align: right;\">\n",
       "      <th></th>\n",
       "      <th></th>\n",
       "      <th>is_tissue</th>\n",
       "      <th>slide_path</th>\n",
       "      <th>is_tumor</th>\n",
       "      <th>is_all_tumor</th>\n",
       "    </tr>\n",
       "  </thead>\n",
       "  <tbody>\n",
       "    <tr>\n",
       "      <th rowspan=\"5\" valign=\"top\">0</th>\n",
       "      <th>0</th>\n",
       "      <td>False</td>\n",
       "      <td>../data/train/pos/16-S-042893_A1.mrxs</td>\n",
       "      <td>False</td>\n",
       "      <td>False</td>\n",
       "    </tr>\n",
       "    <tr>\n",
       "      <th>1</th>\n",
       "      <td>False</td>\n",
       "      <td>../data/train/pos/16-S-042893_A1.mrxs</td>\n",
       "      <td>False</td>\n",
       "      <td>False</td>\n",
       "    </tr>\n",
       "    <tr>\n",
       "      <th>2</th>\n",
       "      <td>False</td>\n",
       "      <td>../data/train/pos/16-S-042893_A1.mrxs</td>\n",
       "      <td>False</td>\n",
       "      <td>False</td>\n",
       "    </tr>\n",
       "    <tr>\n",
       "      <th>3</th>\n",
       "      <td>False</td>\n",
       "      <td>../data/train/pos/16-S-042893_A1.mrxs</td>\n",
       "      <td>False</td>\n",
       "      <td>False</td>\n",
       "    </tr>\n",
       "    <tr>\n",
       "      <th>4</th>\n",
       "      <td>False</td>\n",
       "      <td>../data/train/pos/16-S-042893_A1.mrxs</td>\n",
       "      <td>False</td>\n",
       "      <td>False</td>\n",
       "    </tr>\n",
       "  </tbody>\n",
       "</table>\n",
       "</div>"
      ],
      "text/plain": [
       "     is_tissue                             slide_path  is_tumor  is_all_tumor\n",
       "0 0      False  ../data/train/pos/16-S-042893_A1.mrxs     False         False\n",
       "  1      False  ../data/train/pos/16-S-042893_A1.mrxs     False         False\n",
       "  2      False  ../data/train/pos/16-S-042893_A1.mrxs     False         False\n",
       "  3      False  ../data/train/pos/16-S-042893_A1.mrxs     False         False\n",
       "  4      False  ../data/train/pos/16-S-042893_A1.mrxs     False         False"
      ]
     },
     "execution_count": 127,
     "metadata": {},
     "output_type": "execute_result"
    }
   ],
   "source": [
    "# is_tumor 부분\n",
    "if slide_contains_tumor:\n",
    "    with openslide.open_slide(truth_path) as truth:\n",
    "        thumbnail_truth = truth.get_thumbnail(size)\n",
    "        \n",
    "    # truth pathes_df\n",
    "    patches_y = pd.DataFrame(\n",
    "            pd.DataFrame(np.array(thumbnail_truth.convert('L'))).stack())\n",
    "    patches_y['is_tumor'] = patches_y[0] > 0\n",
    "    \n",
    "    # mask된 영역이 애매한 경우\n",
    "    patches_y['is_all_tumor'] = patches_y[0] == 255\n",
    "    patches_y.drop(0, axis=1, inplace=True)\n",
    "    samples = pd.concat([patches, patches_y], axis=1)\n",
    "else: \n",
    "    samples = patches\n",
    "    samples['is_tumor'] = False\n",
    "\n",
    "samples.head()"
   ]
  },
  {
   "cell_type": "code",
   "execution_count": 128,
   "metadata": {},
   "outputs": [
    {
     "data": {
      "text/html": [
       "<div>\n",
       "<style scoped>\n",
       "    .dataframe tbody tr th:only-of-type {\n",
       "        vertical-align: middle;\n",
       "    }\n",
       "\n",
       "    .dataframe tbody tr th {\n",
       "        vertical-align: top;\n",
       "    }\n",
       "\n",
       "    .dataframe thead th {\n",
       "        text-align: right;\n",
       "    }\n",
       "</style>\n",
       "<table border=\"1\" class=\"dataframe\">\n",
       "  <thead>\n",
       "    <tr style=\"text-align: right;\">\n",
       "      <th></th>\n",
       "      <th></th>\n",
       "      <th>is_tissue</th>\n",
       "      <th>slide_path</th>\n",
       "      <th>is_tumor</th>\n",
       "      <th>is_all_tumor</th>\n",
       "    </tr>\n",
       "  </thead>\n",
       "  <tbody>\n",
       "    <tr>\n",
       "      <th rowspan=\"5\" valign=\"top\">17</th>\n",
       "      <th>165</th>\n",
       "      <td>True</td>\n",
       "      <td>../data/train/pos/16-S-042893_A1.mrxs</td>\n",
       "      <td>False</td>\n",
       "      <td>False</td>\n",
       "    </tr>\n",
       "    <tr>\n",
       "      <th>166</th>\n",
       "      <td>True</td>\n",
       "      <td>../data/train/pos/16-S-042893_A1.mrxs</td>\n",
       "      <td>False</td>\n",
       "      <td>False</td>\n",
       "    </tr>\n",
       "    <tr>\n",
       "      <th>167</th>\n",
       "      <td>True</td>\n",
       "      <td>../data/train/pos/16-S-042893_A1.mrxs</td>\n",
       "      <td>False</td>\n",
       "      <td>False</td>\n",
       "    </tr>\n",
       "    <tr>\n",
       "      <th>201</th>\n",
       "      <td>True</td>\n",
       "      <td>../data/train/pos/16-S-042893_A1.mrxs</td>\n",
       "      <td>False</td>\n",
       "      <td>False</td>\n",
       "    </tr>\n",
       "    <tr>\n",
       "      <th>205</th>\n",
       "      <td>True</td>\n",
       "      <td>../data/train/pos/16-S-042893_A1.mrxs</td>\n",
       "      <td>False</td>\n",
       "      <td>False</td>\n",
       "    </tr>\n",
       "  </tbody>\n",
       "</table>\n",
       "</div>"
      ],
      "text/plain": [
       "        is_tissue                             slide_path  is_tumor  \\\n",
       "17 165       True  ../data/train/pos/16-S-042893_A1.mrxs     False   \n",
       "   166       True  ../data/train/pos/16-S-042893_A1.mrxs     False   \n",
       "   167       True  ../data/train/pos/16-S-042893_A1.mrxs     False   \n",
       "   201       True  ../data/train/pos/16-S-042893_A1.mrxs     False   \n",
       "   205       True  ../data/train/pos/16-S-042893_A1.mrxs     False   \n",
       "\n",
       "        is_all_tumor  \n",
       "17 165         False  \n",
       "   166         False  \n",
       "   167         False  \n",
       "   201         False  \n",
       "   205         False  "
      ]
     },
     "execution_count": 128,
     "metadata": {},
     "output_type": "execute_result"
    }
   ],
   "source": [
    "filter_non_tissue = True\n",
    "if filter_non_tissue:  # tissue인것만 가져오기\n",
    "    samples = samples[samples.is_tissue == True]\n",
    "    \n",
    "samples.head()"
   ]
  },
  {
   "cell_type": "code",
   "execution_count": 130,
   "metadata": {},
   "outputs": [
    {
     "data": {
      "text/html": [
       "<div>\n",
       "<style scoped>\n",
       "    .dataframe tbody tr th:only-of-type {\n",
       "        vertical-align: middle;\n",
       "    }\n",
       "\n",
       "    .dataframe tbody tr th {\n",
       "        vertical-align: top;\n",
       "    }\n",
       "\n",
       "    .dataframe thead th {\n",
       "        text-align: right;\n",
       "    }\n",
       "</style>\n",
       "<table border=\"1\" class=\"dataframe\">\n",
       "  <thead>\n",
       "    <tr style=\"text-align: right;\">\n",
       "      <th></th>\n",
       "      <th></th>\n",
       "      <th>is_tissue</th>\n",
       "      <th>slide_path</th>\n",
       "      <th>is_tumor</th>\n",
       "      <th>is_all_tumor</th>\n",
       "      <th>tile_loc</th>\n",
       "    </tr>\n",
       "  </thead>\n",
       "  <tbody>\n",
       "    <tr>\n",
       "      <th rowspan=\"5\" valign=\"top\">17</th>\n",
       "      <th>165</th>\n",
       "      <td>True</td>\n",
       "      <td>../data/train/pos/16-S-042893_A1.mrxs</td>\n",
       "      <td>False</td>\n",
       "      <td>False</td>\n",
       "      <td>(17, 165)</td>\n",
       "    </tr>\n",
       "    <tr>\n",
       "      <th>166</th>\n",
       "      <td>True</td>\n",
       "      <td>../data/train/pos/16-S-042893_A1.mrxs</td>\n",
       "      <td>False</td>\n",
       "      <td>False</td>\n",
       "      <td>(17, 166)</td>\n",
       "    </tr>\n",
       "    <tr>\n",
       "      <th>167</th>\n",
       "      <td>True</td>\n",
       "      <td>../data/train/pos/16-S-042893_A1.mrxs</td>\n",
       "      <td>False</td>\n",
       "      <td>False</td>\n",
       "      <td>(17, 167)</td>\n",
       "    </tr>\n",
       "    <tr>\n",
       "      <th>201</th>\n",
       "      <td>True</td>\n",
       "      <td>../data/train/pos/16-S-042893_A1.mrxs</td>\n",
       "      <td>False</td>\n",
       "      <td>False</td>\n",
       "      <td>(17, 201)</td>\n",
       "    </tr>\n",
       "    <tr>\n",
       "      <th>205</th>\n",
       "      <td>True</td>\n",
       "      <td>../data/train/pos/16-S-042893_A1.mrxs</td>\n",
       "      <td>False</td>\n",
       "      <td>False</td>\n",
       "      <td>(17, 205)</td>\n",
       "    </tr>\n",
       "  </tbody>\n",
       "</table>\n",
       "</div>"
      ],
      "text/plain": [
       "        is_tissue                             slide_path  is_tumor  \\\n",
       "17 165       True  ../data/train/pos/16-S-042893_A1.mrxs     False   \n",
       "   166       True  ../data/train/pos/16-S-042893_A1.mrxs     False   \n",
       "   167       True  ../data/train/pos/16-S-042893_A1.mrxs     False   \n",
       "   201       True  ../data/train/pos/16-S-042893_A1.mrxs     False   \n",
       "   205       True  ../data/train/pos/16-S-042893_A1.mrxs     False   \n",
       "\n",
       "        is_all_tumor   tile_loc  \n",
       "17 165         False  (17, 165)  \n",
       "   166         False  (17, 166)  \n",
       "   167         False  (17, 167)  \n",
       "   201         False  (17, 201)  \n",
       "   205         False  (17, 205)  "
      ]
     },
     "execution_count": 130,
     "metadata": {},
     "output_type": "execute_result"
    }
   ],
   "source": [
    "filter_only_all_tumor = True\n",
    "\n",
    "samples['tile_loc'] = list(samples.index)\n",
    "all_tissue_samples = samples[samples['is_tumor'] == False]\n",
    "all_tissue_samples = all_tissue_samples.append(samples[samples['is_all_tumor'] == True])\n",
    "all_tissue_samples.head()"
   ]
  },
  {
   "cell_type": "code",
   "execution_count": 133,
   "metadata": {},
   "outputs": [
    {
     "data": {
      "text/plain": [
       "False    74490\n",
       "True     30723\n",
       "Name: is_tumor, dtype: int64"
      ]
     },
     "execution_count": 133,
     "metadata": {},
     "output_type": "execute_result"
    }
   ],
   "source": [
    "all_tissue_samples['is_tumor'].value_counts()"
   ]
  },
  {
   "cell_type": "code",
   "execution_count": null,
   "metadata": {},
   "outputs": [],
   "source": []
  }
 ],
 "metadata": {
  "kernelspec": {
   "display_name": "tensorflow",
   "language": "python",
   "name": "tensorflow"
  },
  "language_info": {
   "codemirror_mode": {
    "name": "ipython",
    "version": 3
   },
   "file_extension": ".py",
   "mimetype": "text/x-python",
   "name": "python",
   "nbconvert_exporter": "python",
   "pygments_lexer": "ipython3",
   "version": "3.6.7"
  }
 },
 "nbformat": 4,
 "nbformat_minor": 2
}
